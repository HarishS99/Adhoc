{
  "nbformat": 4,
  "nbformat_minor": 0,
  "metadata": {
    "colab": {
      "name": "Adhoc.ipynb",
      "provenance": [],
      "authorship_tag": "ABX9TyPB4B8Zi4odt6DZMOSBhXtf",
      "include_colab_link": true
    },
    "kernelspec": {
      "name": "python3",
      "display_name": "Python 3"
    }
  },
  "cells": [
    {
      "cell_type": "markdown",
      "metadata": {
        "id": "view-in-github",
        "colab_type": "text"
      },
      "source": [
        "<a href=\"https://colab.research.google.com/github/HarishS99/Adhoc/blob/master/Adhoc.ipynb\" target=\"_parent\"><img src=\"https://colab.research.google.com/assets/colab-badge.svg\" alt=\"Open In Colab\"/></a>"
      ]
    },
    {
      "cell_type": "code",
      "metadata": {
        "id": "5QS0O_FDxVdc",
        "colab_type": "code",
        "outputId": "b7736750-3667-400a-90b8-9a54c2666ee3",
        "colab": {
          "base_uri": "https://localhost:8080/",
          "height": 171
        }
      },
      "source": [
        "!pip install matplotlib"
      ],
      "execution_count": 0,
      "outputs": [
        {
          "output_type": "stream",
          "text": [
            "Requirement already satisfied: matplotlib in /usr/local/lib/python3.6/dist-packages (3.2.1)\n",
            "Requirement already satisfied: pyparsing!=2.0.4,!=2.1.2,!=2.1.6,>=2.0.1 in /usr/local/lib/python3.6/dist-packages (from matplotlib) (2.4.6)\n",
            "Requirement already satisfied: python-dateutil>=2.1 in /usr/local/lib/python3.6/dist-packages (from matplotlib) (2.8.1)\n",
            "Requirement already satisfied: cycler>=0.10 in /usr/local/lib/python3.6/dist-packages (from matplotlib) (0.10.0)\n",
            "Requirement already satisfied: kiwisolver>=1.0.1 in /usr/local/lib/python3.6/dist-packages (from matplotlib) (1.1.0)\n",
            "Requirement already satisfied: numpy>=1.11 in /usr/local/lib/python3.6/dist-packages (from matplotlib) (1.18.2)\n",
            "Requirement already satisfied: six>=1.5 in /usr/local/lib/python3.6/dist-packages (from python-dateutil>=2.1->matplotlib) (1.12.0)\n",
            "Requirement already satisfied: setuptools in /usr/local/lib/python3.6/dist-packages (from kiwisolver>=1.0.1->matplotlib) (46.0.0)\n"
          ],
          "name": "stdout"
        }
      ]
    },
    {
      "cell_type": "code",
      "metadata": {
        "id": "ctCn_I-Tzewv",
        "colab_type": "code",
        "outputId": "c2e47047-0558-4704-9ccb-3ca257e2b6cd",
        "colab": {
          "base_uri": "https://localhost:8080/",
          "height": 1000
        }
      },
      "source": [
        "from urllib  import request   #  for downloading  data from url \n",
        "from  bs4  import  BeautifulSoup  #  for souping \n",
        "#  pointing to URL \n",
        "url='https://en.wikipedia.org/wiki/Machine_learning'\n",
        "url1='https://google.org/crisisresponse/covid19-map?hl=en'\n",
        "\n",
        "htmldata=request.urlopen(url1)\n",
        "#htmldata.read()  # it will download data in html format \n",
        "soupdata=BeautifulSoup(htmldata,'html5lib')\n",
        "#      html data ,  html parser --      \n",
        "#  what is  HTML parser -- is collection of html tags that can scrape data from particular tag like h1 , html , a , p\n",
        "#  now selecting a particular tag for data scrape \n",
        "atagdata=soupdata.findAll('')\n",
        "#  now converting  data into string  format  from HTML format \n",
        "import  time\n",
        "mydata=\"\"\n",
        "for i in atagdata:\n",
        "  mydata +=  i.text \n",
        "\n",
        "print(mydata)\n",
        "\n",
        "#print(atagdata)"
      ],
      "execution_count": 0,
      "outputs": [
        {
          "output_type": "stream",
          "text": [
            "Machine learning (ML) is the scientific study of algorithms and statistical models that computer systems use to perform a specific task without using explicit instructions, relying on patterns and inference instead. It is seen as a subset of artificial intelligence. Machine learning algorithms build a mathematical model based on sample data, known as \"training data\", in order to make predictions or decisions without being explicitly programmed to perform the task.[1][2]:2 Machine learning algorithms are used in a wide variety of applications, such as email filtering and computer vision, where it is difficult or infeasible to develop a conventional algorithm for effectively performing the task.\n",
            "Machine learning is closely related to computational statistics, which focuses on making predictions using computers. The study of mathematical optimization delivers methods, theory and application domains to the field of machine learning. Data mining is a field of study within machine learning, and focuses on exploratory data analysis through unsupervised learning.[3][4] In its application across business problems, machine learning is also referred to as predictive analytics.\n",
            "The name machine learning was coined in 1959 by Arthur Samuel.[5] Tom M. Mitchell provided a widely quoted, more formal definition of the algorithms studied in the machine learning field: \"A computer program is said to learn from experience E with respect to some class of tasks T and performance measure P if its performance at tasks in T, as measured by P,  improves with experience E.\"[6] This definition of the tasks in which machine learning is concerned offers a fundamentally operational definition rather than defining the field in cognitive terms. This follows Alan Turing's proposal in his paper \"Computing Machinery and Intelligence\", in which the question \"Can machines think?\" is replaced with the question \"Can machines do what we (as thinking entities) can do?\".[7] In Turing's proposal the various characteristics that could be possessed by a thinking machine and the various implications in constructing one are exposed.\n",
            "\n",
            "Machine learning tasks are classified into several broad categories. In supervised learning, the algorithm builds a mathematical model from a set of data that contains both the inputs and the desired outputs. For example, if the task were determining whether an image contained a certain object, the training data for a supervised learning algorithm would include images with and without that object (the input), and each image would have a label (the output) designating whether it contained the object. In special cases, the input may be only partially available, or restricted to special feedback.[clarification needed] Semi-supervised learning algorithms develop mathematical models from incomplete training data, where a portion of the sample input doesn't have labels.\n",
            "Classification algorithms and regression algorithms are types of supervised learning. Classification algorithms are used when the outputs are restricted to a limited set of values. For a classification algorithm that filters emails, the input would be an incoming email, and the output would be the name of the folder in which to file the email. For an algorithm that identifies spam emails, the output would be the prediction of either \"spam\" or \"not spam\", represented by the Boolean values true and false. Regression algorithms are named for their continuous outputs, meaning they may have any value within a range. Examples of a continuous value are the temperature, length, or price of an object.\n",
            "In unsupervised learning, the algorithm builds a mathematical model from a set of data that contains only inputs and no desired output labels. Unsupervised learning algorithms are used to find structure in the data, like grouping or clustering of data points. Unsupervised learning can discover patterns in the data, and can group the inputs into categories, as in feature learning. Dimensionality reduction is the process of reducing the number of \"features\", or inputs, in a set of data.\n",
            "Active learning algorithms access the desired outputs (training labels) for a limited set of inputs based on a budget and optimize the choice of inputs for which it will acquire training labels. When used interactively, these can be presented to a human user for labeling. Reinforcement learning algorithms are given feedback in the form of positive or negative reinforcement in a dynamic environment and are used in autonomous vehicles or in learning to play a game against a human opponent.[2]:3 Other specialized algorithms in machine learning include topic modeling, where the computer program is given a set of natural language documents and finds other documents that cover similar topics. Machine learning algorithms can be used to find the unobservable probability density function in density estimation problems. Meta learning algorithms learn their own inductive bias based on previous experience. In developmental robotics, robot learning algorithms generate their own sequences of learning experiences, also known as a curriculum, to cumulatively acquire new skills through self-guided exploration and social interaction with humans. These robots use guidance mechanisms such as active learning, maturation, motor synergies, and imitation.[clarification needed]\n",
            "Arthur Samuel, an American pioneer in the field of computer gaming and artificial intelligence, coined the term \"Machine Learning\" in 1959 while at IBM.[8] A representative book of the machine learning research during the 1960s was the Nilsson's book on Learning Machines, dealing mostly with machine learning for pattern classification.[9] The interest of machine learning related to pattern recognition continued during the 1970s, as described in the book of Duda and Hart in 1973. [10] In 1981 a report was given on using teaching strategies so that a neural network learns to recognize 40 characters (26 letters, 10 digits, and 4 special symbols) from a computer terminal. [11] \n",
            "As a scientific endeavor, machine learning grew out of the quest for artificial intelligence. Already in the early days of AI as an academic discipline, some researchers were interested in having machines learn from data. They attempted to approach the problem with various symbolic methods, as well as what were then termed \"neural networks\"; these were mostly perceptrons and other models that were later found to be reinventions of the generalized linear models of statistics.[12] Probabilistic reasoning was also employed, especially in automated medical diagnosis.[13]:488\n",
            "However, an increasing emphasis on the logical, knowledge-based approach caused a rift between AI and machine learning. Probabilistic systems were plagued by theoretical and practical problems of data acquisition and representation.[13]:488 By 1980, expert systems had come to dominate AI, and statistics was out of favor.[14] Work on symbolic/knowledge-based learning did continue within AI, leading to inductive logic programming, but the more statistical line of research was now outside the field of AI proper, in pattern recognition and information retrieval.[13]:708–710; 755 Neural networks research had been abandoned by AI and computer science around the same time. This line, too, was continued outside the AI/CS field, as \"connectionism\", by researchers from other disciplines including Hopfield, Rumelhart and Hinton. Their main success came in the mid-1980s with the reinvention of backpropagation.[13]:25\n",
            "Machine learning, reorganized as a separate field, started to flourish in the 1990s. The field changed its goal from achieving artificial intelligence to tackling solvable problems of a practical nature. It shifted focus away from the symbolic approaches it had inherited from AI, and toward methods and models borrowed from statistics and probability theory.[14] It also benefited from the increasing availability of digitized information, and the ability to distribute it via the Internet.\n",
            "Machine learning and data mining often employ the same methods and overlap significantly, but while machine learning focuses on prediction, based on known properties learned from the training data, data mining focuses on the discovery of (previously) unknown properties in the data (this is the analysis step of knowledge discovery in databases). Data mining uses many machine learning methods, but with different goals; on the other hand, machine learning also employs data mining methods as \"unsupervised learning\" or as a preprocessing step to improve learner accuracy. Much of the confusion between these two research communities (which do often have separate conferences and separate journals, ECML PKDD being a major exception) comes from the basic assumptions they work with: in machine learning, performance is usually evaluated with respect to the ability to reproduce known knowledge, while in knowledge discovery and data mining (KDD) the key task is the discovery of previously unknown knowledge. Evaluated with respect to known knowledge, an uninformed (unsupervised) method will easily be outperformed by other supervised methods, while in a typical KDD task, supervised methods cannot be used due to the unavailability of training data.\n",
            "Machine learning also has intimate ties to optimization: many learning problems are formulated as minimization of some loss function on a training set of examples. Loss functions express the discrepancy between the predictions of the model being trained and the actual problem instances (for example, in classification, one wants to assign a label to instances, and models are trained to correctly predict the pre-assigned labels of a set of examples). The difference between the two fields arises from the goal of generalization: while optimization algorithms can minimize the loss on a training set, machine learning is concerned with minimizing the loss on unseen samples.[15]\n",
            "Machine learning and statistics are closely related fields in terms of methods, but distinct in their principal goal: statistics draws population inferences from a sample, while machine learning finds generalizable predictive patterns.[16] According to Michael I. Jordan, the ideas of machine learning, from methodological principles to theoretical tools, have had a long pre-history in statistics.[17] He also suggested the term data science as a placeholder to call the overall field.[17]\n",
            "Leo Breiman distinguished two statistical modeling paradigms: data model and algorithmic model,[18] wherein \"algorithmic model\" means more or less the machine learning algorithms like Random forest.\n",
            "Some statisticians have adopted methods from machine learning, leading to a combined field that they call statistical learning.[19]\n",
            "A core objective of a learner is to generalize from its experience.[2][20] Generalization in this context is the ability of a learning machine to perform accurately on new, unseen examples/tasks after having experienced a learning data set. The training examples come from some generally unknown probability distribution (considered representative of the space of occurrences) and the learner has to build a general model about this space that enables it to produce sufficiently accurate predictions in new cases.\n",
            "The computational analysis of machine learning algorithms and their performance is a branch of theoretical computer science known as computational learning theory. Because training sets are finite and the future is uncertain, learning theory usually does not yield guarantees of the performance of algorithms. Instead, probabilistic bounds on the performance are quite common. The bias–variance decomposition is one way to quantify generalization error.\n",
            "For the best performance in the context of generalization, the complexity of the hypothesis should match the complexity of the function underlying the data. If the hypothesis is less complex than the function, then the model has under fitted the data. If the complexity of the model is increased in response, then the training error decreases. But if the hypothesis is too complex, then the model is subject to overfitting and generalization will be poorer.[21]\n",
            "In addition to performance bounds, learning theorists study the time complexity and feasibility of learning. In computational learning theory, a computation is considered feasible if it can be done in polynomial time. There are two kinds of time complexity results. Positive results show that a certain class of functions can be learned in polynomial time. Negative results show that certain classes cannot be learned in polynomial time.\n",
            "The types of machine learning algorithms differ in their approach, the type of data they input and output, and the type of task or problem that they are intended to solve.\n",
            "Supervised learning algorithms build a mathematical model of a set of data that contains both the inputs and the desired outputs.[22] The data is known as training data, and consists of a set of training examples. Each training example has one or more inputs and the desired output, also known as a supervisory signal.  In the mathematical model, each training example is represented by an array or vector, sometimes called a feature vector, and the training data is represented by a matrix. Through iterative optimization of an objective function, supervised learning algorithms learn a function that can be used to predict the output associated with new inputs.[23] An optimal function will allow the algorithm to correctly determine the output for inputs that were not a part of the training data. An algorithm that improves the accuracy of its outputs or predictions over time is said to have learned to perform that task.[6]\n",
            "Supervised learning algorithms include classification and regression.[24] Classification algorithms are used when the outputs are restricted to a limited set of values, and regression algorithms are used when the outputs may have any numerical value within a range. Similarity learning is an area of supervised machine learning closely related to regression and classification, but the goal is to learn from examples using a similarity function that measures how similar or related two objects are. It has applications in ranking, recommendation systems, visual identity tracking, face verification, and speaker verification.\n",
            "In the case of semi-supervised learning algorithms, some of the training examples are missing training labels, but they can nevertheless be used to improve the quality of a model. In weakly supervised learning, the training labels are noisy, limited, or imprecise; however, these labels are often cheaper to obtain, resulting in larger effective training sets.[25]\n",
            "Unsupervised learning algorithms take a set of data that contains only inputs, and find structure in the data, like grouping or clustering of data points. The algorithms, therefore, learn from test data that has not been labeled, classified or categorized. Instead of responding to feedback, unsupervised learning algorithms identify commonalities in the data and react based on the presence or absence of such commonalities in each new piece of data. A central application of unsupervised learning is in the field of density estimation in statistics,[26] though unsupervised learning encompasses other domains involving summarizing and explaining data features.\n",
            "Cluster analysis is the assignment of a set of observations into subsets (called clusters) so that observations within the same cluster are similar according to one or more predesignated criteria, while observations drawn from different clusters are dissimilar. Different clustering techniques make different assumptions on the structure of the data, often defined by some similarity metric and evaluated, for example, by internal compactness, or the similarity between members of the same cluster, and separation, the difference between clusters. Other methods are based on estimated density and graph connectivity.\n",
            "Semi-supervised learning\n",
            "Semi-supervised learning falls between unsupervised learning (without any labeled training data) and supervised learning (with completely labeled training data).  Many machine-learning researchers have found that unlabeled data, when used in conjunction with a small amount of labeled data, can produce a considerable improvement in learning accuracy.\n",
            "Reinforcement learning is an area of machine learning concerned with how software agents ought to take actions in an environment so as to maximize some notion of cumulative reward. Due to its generality, the field is studied in many other disciplines, such as game theory, control theory, operations research, information theory, simulation-based optimization, multi-agent systems, swarm intelligence, statistics and genetic algorithms. In machine learning, the environment is typically represented as a Markov Decision Process (MDP). Many reinforcement learning algorithms use dynamic programming techniques.[27] Reinforcement learning algorithms do not assume knowledge of an exact mathematical model of the MDP, and are used when exact models are infeasible. Reinforcement learning algorithms are used in autonomous vehicles or in learning to play a game against a human opponent.\n",
            "Self-learning as machine learning paradigm was introduced in 1982 along with a neural network capable of self-learning  named Crossbar Adaptive Array (CAA). [28] It is a learning with no external rewards and no external teacher advices. The CAA self-learning algorithm computes, in a crossbar fashion, both decisions about actions and emotions (feelings) about consequence situations. The system is driven by the interaction between cognition and emotion. [29]\n",
            "The self-learning algorithm updates a memory matrix W =||w(a,s)|| such that in each iteration executes the following machine learning  routine: \n",
            "It is a system with only one input, situation s, and only one output, action (or behavior) a. There is neither a separate reinforcement input nor an advice input from the environment. The backpropagated value (secondary reinforcement) is the emotion toward the consequence situation. The CAA exists in two environments, one is behavioral environment where it behaves, and the other is genetic environment, wherefrom it initially and only once receives initial emotions about situations to be encountered in the  behavioral environment. After receiving the genome (species) vector from the genetic environment, the CAA learns a goal seeking behavior, in an environment that contains both desirable and undesirable situations. [30]\n",
            "Several learning algorithms aim at discovering better representations of the inputs provided during training.[31] Classic examples include principal components analysis and cluster analysis. Feature learning algorithms, also called representation learning algorithms, often attempt to preserve the information in their input but also transform it in a way that makes it useful, often as a pre-processing step before performing classification or predictions. This technique allows reconstruction of the inputs coming from the unknown data-generating distribution, while not being necessarily faithful to configurations that are implausible under that distribution. This replaces manual feature engineering, and allows a machine to both learn the features and use them to perform a specific task.\n",
            "Feature learning can be either supervised or unsupervised. In supervised feature learning, features are learned using labeled input data. Examples include artificial neural networks, multilayer perceptrons, and supervised dictionary learning. In unsupervised feature learning, features are learned with unlabeled input data.  Examples include dictionary learning, independent component analysis, autoencoders, matrix factorization[32] and various forms of clustering.[33][34][35]\n",
            "Manifold learning algorithms attempt to do so under the constraint that the learned representation is low-dimensional. Sparse coding algorithms attempt to do so under the constraint that the learned representation is sparse, meaning that the mathematical model has many zeros. Multilinear subspace learning algorithms aim to learn low-dimensional representations directly from tensor representations for multidimensional data, without reshaping them into higher-dimensional vectors.[36] Deep learning algorithms discover multiple levels of representation, or a hierarchy of features, with higher-level, more abstract features defined in terms of (or generating) lower-level features. It has been argued that an intelligent machine is one that learns a representation that disentangles the underlying factors of variation that explain the observed data.[37]\n",
            "Feature learning is motivated by the fact that machine learning tasks such as classification often require input that is mathematically and computationally convenient to process. However, real-world data such as images, video, and sensory data has not yielded to attempts to algorithmically define specific features. An alternative is to discover such features or representations through examination, without relying on explicit algorithms.\n",
            "Sparse dictionary learning is a feature learning method where a training example is represented as a linear combination of basis functions, and is assumed to be a sparse matrix. The method is strongly NP-hard and difficult to solve approximately.[38] A popular heuristic method for sparse dictionary learning is the K-SVD algorithm. Sparse dictionary learning has been applied in several contexts. In classification, the problem is to determine the class to which a previously unseen training example belongs. For a dictionary where each class has already been built, a new training example is associated with the class that is best sparsely represented by the corresponding dictionary. Sparse dictionary learning has also been applied in image de-noising. The key idea is that a clean image patch can be sparsely represented by an image dictionary, but the noise cannot.[39]\n",
            "In data mining, anomaly detection, also known as outlier detection, is the identification of rare items, events or observations which raise suspicions by differing significantly from the majority of the data.[40] Typically, the anomalous items represent an issue such as bank fraud, a structural defect, medical problems or errors in a text. Anomalies are referred to as outliers, novelties, noise, deviations and exceptions.[41]\n",
            "In particular, in the context of abuse and network intrusion detection, the interesting objects are often not rare objects, but unexpected bursts in activity. This pattern does not adhere to the common statistical definition of an outlier as a rare object, and many outlier detection methods (in particular, unsupervised algorithms) will fail on such data, unless it has been aggregated appropriately. Instead, a cluster analysis algorithm may be able to detect the micro-clusters formed by these patterns.[42]\n",
            "Three broad categories of anomaly detection techniques exist.[43] Unsupervised anomaly detection techniques detect anomalies in an unlabeled test data set under the assumption that the majority of the instances in the data set are normal, by looking for instances that seem to fit least to the remainder of the data set. Supervised anomaly detection techniques require a data set that has been labeled as \"normal\" and \"abnormal\" and involves training a classifier (the key difference to many other statistical classification problems is the inherently unbalanced nature of outlier detection). Semi-supervised anomaly detection techniques construct a model representing normal behavior from a given normal training data set and then test the likelihood of a test instance to be generated by the model.\n",
            "Association rule learning is a rule-based machine learning method for discovering relationships between variables in large databases. It is intended to identify strong rules discovered in databases using some measure of \"interestingness\".[44]\n",
            "Rule-based machine learning is a general term for any machine learning method that identifies, learns, or evolves \"rules\" to store, manipulate or apply knowledge. The defining characteristic of a rule-based machine learning algorithm is the identification and utilization of a set of relational rules that collectively represent the knowledge captured by the system. This is in contrast to other machine learning algorithms that commonly identify a singular model that can be universally applied to any instance in order to make a prediction.[45] Rule-based machine learning approaches include learning classifier systems, association rule learning, and artificial immune systems.\n",
            "Based on the concept of strong rules, Rakesh Agrawal, Tomasz Imieliński and Arun Swami introduced association rules for discovering regularities between products in large-scale transaction data recorded by point-of-sale (POS) systems in supermarkets.[46] For example, the rule \n",
            "  \n",
            "    \n",
            "      \n",
            "        {\n",
            "        \n",
            "          o\n",
            "          n\n",
            "          i\n",
            "          o\n",
            "          n\n",
            "          s\n",
            "          ,\n",
            "          p\n",
            "          o\n",
            "          t\n",
            "          a\n",
            "          t\n",
            "          o\n",
            "          e\n",
            "          s\n",
            "        \n",
            "        }\n",
            "        ⇒\n",
            "        {\n",
            "        \n",
            "          b\n",
            "          u\n",
            "          r\n",
            "          g\n",
            "          e\n",
            "          r\n",
            "        \n",
            "        }\n",
            "      \n",
            "    \n",
            "    {\\displaystyle \\{\\mathrm {onions,potatoes} \\}\\Rightarrow \\{\\mathrm {burger} \\}}\n",
            "  \n",
            " found in the sales data of a supermarket would indicate that if a customer buys onions and potatoes together, they are likely to also buy hamburger meat. Such information can be used as the basis for decisions about marketing activities such as promotional pricing or product placements. In addition to market basket analysis, association rules are employed today in application areas including Web usage mining, intrusion detection, continuous production, and bioinformatics. In contrast with sequence mining, association rule learning typically does not consider the order of items either within a transaction or across transactions.\n",
            "Learning classifier systems (LCS) are a family of rule-based machine learning algorithms that combine a discovery component, typically a genetic algorithm, with a learning component, performing either supervised learning, reinforcement learning, or unsupervised learning. They seek to identify a set of context-dependent rules that collectively store and apply knowledge in a piecewise manner in order to make predictions.[47]\n",
            "Inductive logic programming (ILP) is an approach to rule-learning using logic programming as a uniform representation for input examples, background knowledge, and hypotheses. Given an encoding of the known background knowledge and a set of examples represented as a logical database of facts, an ILP system will derive a hypothesized logic program that entails all positive and no negative examples. Inductive programming is a related field that considers any kind of programming languages for representing hypotheses (and not only logic programming), such as functional programs.\n",
            "Inductive logic programming is particularly useful in bioinformatics and natural language processing. Gordon Plotkin and Ehud Shapiro laid the initial theoretical foundation for inductive machine learning in a logical setting.[48][49][50] Shapiro built their first implementation (Model Inference System) in 1981: a Prolog program that inductively inferred logic programs from positive and negative examples.[51] The term inductive here refers to philosophical induction, suggesting a theory to explain observed facts, rather than mathematical induction, proving a property for all members of a well-ordered set.\n",
            "Performing machine learning involves creating a model, which is trained on some training data and then can process additional data to make predictions. Various types of models have been used and researched for machine learning systems.\n",
            "Artificial neural networks (ANNs), or connectionist systems, are computing systems vaguely inspired by the biological neural networks that constitute animal brains. Such systems \"learn\" to perform tasks by considering examples, generally without being programmed with any task-specific rules.\n",
            "An ANN is a model based on a collection of connected units or nodes called \"artificial neurons\", which loosely model the neurons in a biological brain. Each connection, like the synapses in a biological brain, can transmit information, a \"signal\", from one artificial neuron to another. An artificial neuron that receives a signal can process it and then signal additional artificial neurons connected to it. In common ANN implementations, the signal at a connection between artificial neurons is a real number, and the output of each artificial neuron is computed by some non-linear function of the sum of its inputs. The connections between artificial neurons are called \"edges\". Artificial neurons and edges typically have a weight that adjusts as learning proceeds. The weight increases or decreases the strength of the signal at a connection. Artificial neurons may have a threshold such that the signal is only sent if the aggregate signal crosses that threshold. Typically, artificial neurons are aggregated into layers. Different layers may perform different kinds of transformations on their inputs. Signals travel from the first layer (the input layer) to the last layer (the output layer), possibly after traversing the layers multiple times.\n",
            "The original goal of the ANN approach was to solve problems in the same way that a human brain would. However, over time, attention moved to performing specific tasks, leading to deviations from biology. Artificial neural networks have been used on a variety of tasks, including computer vision, speech recognition, machine translation, social network filtering, playing board and video games and medical diagnosis.\n",
            "Deep learning consists of multiple hidden layers in an artificial neural network. This approach tries to model the way the human brain processes light and sound into vision and hearing. Some successful applications of deep learning are computer vision and speech recognition.[52]\n",
            "Decision tree learning uses a decision tree as a predictive model to go from observations about an item (represented in the branches) to conclusions about the item's target value (represented in the leaves). It is one of the predictive modeling approaches used in statistics, data mining and machine learning. Tree models where the target variable can take a discrete set of values are called classification trees; in these tree structures, leaves represent class labels and branches represent conjunctions of features that lead to those class labels. Decision trees where the target variable can take continuous values (typically real numbers) are called regression trees. In decision analysis, a decision tree can be used to visually and explicitly represent decisions and decision making. In data mining, a decision tree describes data, but the resulting classification tree can be an input for decision making.\n",
            "Support vector machines (SVMs), also known as support vector networks, are a set of related supervised learning methods used for classification and regression. Given a set of training examples, each marked as belonging to one of two categories, an SVM training algorithm builds a model that predicts whether a new example falls into one category or the other.[53]  An SVM training algorithm is a non-probabilistic, binary, linear classifier, although methods such as Platt scaling exist to use SVM in a probabilistic classification setting. In addition to performing linear classification, SVMs can efficiently perform a non-linear classification using what is called the kernel trick, implicitly mapping their inputs into high-dimensional feature spaces.\n",
            "Regression analysis encompasses a large variety of statistical methods to estimate the relationship between input variables and their associated features. Its most common form is linear regression, where a single line is drawn to best fit the given data according to a mathematical criterion such as ordinary least squares. The latter is oftentimes extended by regularization (mathematics) methods to mitigate overfitting and high bias, as can be seen in ridge regression. When dealing with non-linear problems, go-to models include polynomial regression (e.g. used for trendline fitting in Microsoft Excel [54]), Logistic regression (often used in statistical classification) or even kernel regression, which introduces non-linearity by taking advantage of the kernel trick to implicitly map input variables to higher dimensional space. \n",
            "A Bayesian network, belief network or directed acyclic graphical model is a probabilistic graphical model that represents a set of random variables and their conditional independence with a directed acyclic graph (DAG). For example, a Bayesian network could represent the probabilistic relationships between diseases and symptoms. Given symptoms, the network can be used to compute the probabilities of the presence of various diseases. Efficient algorithms exist that perform inference and learning. Bayesian networks that model sequences of variables, like speech signals or protein sequences, are called dynamic Bayesian networks. Generalizations of Bayesian networks that can represent and solve decision problems under uncertainty are called influence diagrams.\n",
            "A genetic algorithm (GA) is a search algorithm and heuristic technique that mimics the process of natural selection, using methods such as mutation and crossover to generate new genotypes in the hope of finding good solutions to a given problem. In machine learning, genetic algorithms were used in the 1980s and 1990s.[55][56] Conversely, machine learning techniques have been used to improve the performance of genetic and evolutionary algorithms.[57]\n",
            "Usually, machine learning models require a lot of data in order for them to perform well. Usually, when training a machine learning model, one needs to collect a large, representative sample of data from a training set. Data from the training set can be as varied as a corpus of text, a collection of images, and data collected from individual users of a service. Overfitting is something to watch out for when training a machine learning model.\n",
            "Federated learning is a new approach to training machine learning models that decentralizes the training process, allowing for users' privacy to be maintained by not needing to send their data to a centralized server. This also increases efficiency by decentralizing the training process to many devices. For example, Gboard uses federated machine learning to train search query prediction models on users' mobile phones without having to send individual searches back to Google.[58]\n",
            "There are many applications for machine learning, including:\n",
            "In 2006, the media-services provider Netflix held the first \"Netflix Prize\" competition to find a program to better predict user preferences and improve the accuracy on its existing Cinematch movie recommendation algorithm by at least 10%.  A joint team made up of researchers from AT&T Labs-Research in collaboration with the teams Big Chaos and Pragmatic Theory built an ensemble model to win the Grand Prize in 2009 for $1 million.[60] Shortly after the prize was awarded, Netflix realized that viewers' ratings were not the best indicators of their viewing patterns (\"everything is a recommendation\") and they changed their recommendation engine accordingly.[61] In 2010 The Wall Street Journal wrote about the firm Rebellion Research and their use of machine learning to predict the financial crisis.[62] In 2012, co-founder of Sun Microsystems, Vinod Khosla, predicted that 80% of medical doctors' jobs would be lost in the next two decades to automated machine learning medical diagnostic software.[63] In 2014, it was reported that a machine learning algorithm had been applied in the field of art history to study fine art paintings, and that it may have revealed previously unrecognized influences among artists.[64] In 2019 Springer Nature published the first research book created using machine learning.[65]\n",
            "Although machine learning has been transformative in some fields, machine-learning programs often fail to deliver expected results.[66][67][68] Reasons for this are numerous: lack of (suitable) data, lack of access to the data, data bias, privacy problems, badly chosen tasks and algorithms, wrong tools and people, lack of resources, and evaluation problems.[69]\n",
            "In 2018, a self-driving car from Uber failed to detect a pedestrian, who was killed after a collision.[70] Attempts to use machine learning in healthcare with the IBM Watson system failed to deliver even after years of time and billions of investment.[71][72]\n",
            "Machine learning approaches in particular can suffer from different data biases. A machine learning system trained on current customers only may not be able to predict the needs of new customer groups that are not represented in the training data. When trained on man-made data, machine learning is likely to pick up the same constitutional and unconscious biases already present in society.[73] Language models learned from data have been shown to contain human-like biases.[74][75] Machine learning systems used for criminal risk assessment have been found to be biased against black people.[76][77] In 2015, Google photos would often tag black people as gorillas,[78] and in 2018 this still was not well resolved, but Google reportedly was still using the workaround to remove all gorillas from the training data, and thus was not able to recognize real gorillas at all.[79] Similar issues with recognizing non-white people have been found in many other systems.[80] In 2016, Microsoft tested a chatbot that learned from Twitter, and it quickly picked up racist and sexist language.[81] Because of such challenges, the effective use of machine learning may take longer to be adopted in other domains.[82] Concern for fairness in machine learning, that is, reducing bias in machine learning and propelling its use for human good is increasingly expressed by artificial intelligence scientists, including Fei-Fei Li, who reminds engineers that \"There’s nothing artificial about AI...It’s inspired by people, it’s created by people, and—most importantly—it impacts people. It is a powerful tool we are only just beginning to understand, and that is a profound responsibility.”[83]\n",
            "Classification machine learning models can be validated by accuracy estimation techniques like the Holdout method, which splits the data in a training and test set (conventionally 2/3 training set and 1/3 test set designation) and evaluates the performance of the training model on the test set. In comparison, the K-fold-cross-validation method randomly partitions the data into K subsets and then K experiments are performed each respectively considering 1 subset for evaluation and the remaining K-1 subsets for training the model. In addition to the holdout and cross-validation methods, bootstrap, which samples n instances with replacement from the dataset, can be used to assess model accuracy.[84]\n",
            "In addition to overall accuracy, investigators frequently report sensitivity and specificity meaning True Positive Rate (TPR) and True Negative Rate (TNR) respectively. Similarly, investigators sometimes report the False Positive Rate (FPR) as well as the False Negative Rate (FNR). However, these rates are ratios that fail to reveal their numerators and denominators. The Total Operating Characteristic (TOC) is an effective method to express a model's diagnostic ability. TOC shows the numerators and denominators of the previously mentioned rates, thus TOC provides more information than the commonly used Receiver Operating Characteristic (ROC) and ROC's associated Area Under the Curve (AUC).[85]\n",
            "Machine learning poses a host of ethical questions. Systems which are trained on datasets collected with biases may exhibit these biases upon use (algorithmic bias), thus digitizing cultural prejudices.[86] For example, using job hiring data from a firm with racist hiring policies may lead to a machine learning system duplicating the bias by scoring job applicants against similarity to previous successful applicants.[87][88] Responsible collection of data and documentation of algorithmic rules used by a system thus is a critical part of machine learning.\n",
            "Because human languages contain biases, machines trained on language corpora will necessarily also learn these biases.[89][90]\n",
            "Other forms of ethical challenges, not related to personal biases, are more seen in health care. There are concerns among health care professionals that these systems might not be designed in the public's interest but as income-generating machines. This is especially true in the United States where there is a long-standing ethical dilemma of improving health care, but also increasing profits. For example, the algorithms could be designed to provide patients with unnecessary tests or medication in which the algorithm's proprietary owners hold stakes. There is huge potential for machine learning in health care to provide professionals a great tool to diagnose, medicate, and even plan recovery paths for patients, but this will not happen until the personal biases mentioned previously, and these \"greed\" biases are addressed.[91]\n",
            "Software suites containing a variety of machine learning algorithms include the following:\n",
            "\n"
          ],
          "name": "stdout"
        }
      ]
    },
    {
      "cell_type": "code",
      "metadata": {
        "id": "B8DUtCM8A2Pa",
        "colab_type": "code",
        "colab": {}
      },
      "source": [
        ""
      ],
      "execution_count": 0,
      "outputs": []
    },
    {
      "cell_type": "code",
      "metadata": {
        "id": "A6ojGcmqJv-D",
        "colab_type": "code",
        "outputId": "2c849b6e-fc41-4aab-d6a2-97e3a21ebed1",
        "colab": {
          "base_uri": "https://localhost:8080/",
          "height": 54
        }
      },
      "source": [
        "\n",
        "#  dATA cleaning\n",
        "clean_data=re.sub(r'\\[[0-9]*\\]',' ',mydata)  #  this will remove 0 or more times number appearing in mydata\n",
        "clean_data=re.sub(r'\\s+',' ',clean_data)  # it will remove one or more white spaces with single white space\n",
        "clean_data=re.sub(r'[^a-zA-Z]',' ',clean_data)  # it will remove single char from starting of the line\n",
        "clean_data=re.sub(r'\\s+',' ',clean_data)  # it will remove one or more white spaces with single white space\n",
        "print(clean_data)\n"
      ],
      "execution_count": 0,
      "outputs": [
        {
          "output_type": "stream",
          "text": [
            "Machine learning ML is the scientific study of algorithms and statistical models that computer systems use to perform a specific task without using explicit instructions relying on patterns and inference instead It is seen as a subset of artificial intelligence Machine learning algorithms build a mathematical model based on sample data known as training data in order to make predictions or decisions without being explicitly programmed to perform the task Machine learning algorithms are used in a wide variety of applications such as email filtering and computer vision where it is difficult or infeasible to develop a conventional algorithm for effectively performing the task Machine learning is closely related to computational statistics which focuses on making predictions using computers The study of mathematical optimization delivers methods theory and application domains to the field of machine learning Data mining is a field of study within machine learning and focuses on exploratory data analysis through unsupervised learning In its application across business problems machine learning is also referred to as predictive analytics The name machine learning was coined in by Arthur Samuel Tom M Mitchell provided a widely quoted more formal definition of the algorithms studied in the machine learning field A computer program is said to learn from experience E with respect to some class of tasks T and performance measure P if its performance at tasks in T as measured by P improves with experience E This definition of the tasks in which machine learning is concerned offers a fundamentally operational definition rather than defining the field in cognitive terms This follows Alan Turing s proposal in his paper Computing Machinery and Intelligence in which the question Can machines think is replaced with the question Can machines do what we as thinking entities can do In Turing s proposal the various characteristics that could be possessed by a thinking machine and the various implications in constructing one are exposed Machine learning tasks are classified into several broad categories In supervised learning the algorithm builds a mathematical model from a set of data that contains both the inputs and the desired outputs For example if the task were determining whether an image contained a certain object the training data for a supervised learning algorithm would include images with and without that object the input and each image would have a label the output designating whether it contained the object In special cases the input may be only partially available or restricted to special feedback clarification needed Semi supervised learning algorithms develop mathematical models from incomplete training data where a portion of the sample input doesn t have labels Classification algorithms and regression algorithms are types of supervised learning Classification algorithms are used when the outputs are restricted to a limited set of values For a classification algorithm that filters emails the input would be an incoming email and the output would be the name of the folder in which to file the email For an algorithm that identifies spam emails the output would be the prediction of either spam or not spam represented by the Boolean values true and false Regression algorithms are named for their continuous outputs meaning they may have any value within a range Examples of a continuous value are the temperature length or price of an object In unsupervised learning the algorithm builds a mathematical model from a set of data that contains only inputs and no desired output labels Unsupervised learning algorithms are used to find structure in the data like grouping or clustering of data points Unsupervised learning can discover patterns in the data and can group the inputs into categories as in feature learning Dimensionality reduction is the process of reducing the number of features or inputs in a set of data Active learning algorithms access the desired outputs training labels for a limited set of inputs based on a budget and optimize the choice of inputs for which it will acquire training labels When used interactively these can be presented to a human user for labeling Reinforcement learning algorithms are given feedback in the form of positive or negative reinforcement in a dynamic environment and are used in autonomous vehicles or in learning to play a game against a human opponent Other specialized algorithms in machine learning include topic modeling where the computer program is given a set of natural language documents and finds other documents that cover similar topics Machine learning algorithms can be used to find the unobservable probability density function in density estimation problems Meta learning algorithms learn their own inductive bias based on previous experience In developmental robotics robot learning algorithms generate their own sequences of learning experiences also known as a curriculum to cumulatively acquire new skills through self guided exploration and social interaction with humans These robots use guidance mechanisms such as active learning maturation motor synergies and imitation clarification needed Arthur Samuel an American pioneer in the field of computer gaming and artificial intelligence coined the term Machine Learning in while at IBM A representative book of the machine learning research during the s was the Nilsson s book on Learning Machines dealing mostly with machine learning for pattern classification The interest of machine learning related to pattern recognition continued during the s as described in the book of Duda and Hart in In a report was given on using teaching strategies so that a neural network learns to recognize characters letters digits and special symbols from a computer terminal As a scientific endeavor machine learning grew out of the quest for artificial intelligence Already in the early days of AI as an academic discipline some researchers were interested in having machines learn from data They attempted to approach the problem with various symbolic methods as well as what were then termed neural networks these were mostly perceptrons and other models that were later found to be reinventions of the generalized linear models of statistics Probabilistic reasoning was also employed especially in automated medical diagnosis However an increasing emphasis on the logical knowledge based approach caused a rift between AI and machine learning Probabilistic systems were plagued by theoretical and practical problems of data acquisition and representation By expert systems had come to dominate AI and statistics was out of favor Work on symbolic knowledge based learning did continue within AI leading to inductive logic programming but the more statistical line of research was now outside the field of AI proper in pattern recognition and information retrieval Neural networks research had been abandoned by AI and computer science around the same time This line too was continued outside the AI CS field as connectionism by researchers from other disciplines including Hopfield Rumelhart and Hinton Their main success came in the mid s with the reinvention of backpropagation Machine learning reorganized as a separate field started to flourish in the s The field changed its goal from achieving artificial intelligence to tackling solvable problems of a practical nature It shifted focus away from the symbolic approaches it had inherited from AI and toward methods and models borrowed from statistics and probability theory It also benefited from the increasing availability of digitized information and the ability to distribute it via the Internet Machine learning and data mining often employ the same methods and overlap significantly but while machine learning focuses on prediction based on known properties learned from the training data data mining focuses on the discovery of previously unknown properties in the data this is the analysis step of knowledge discovery in databases Data mining uses many machine learning methods but with different goals on the other hand machine learning also employs data mining methods as unsupervised learning or as a preprocessing step to improve learner accuracy Much of the confusion between these two research communities which do often have separate conferences and separate journals ECML PKDD being a major exception comes from the basic assumptions they work with in machine learning performance is usually evaluated with respect to the ability to reproduce known knowledge while in knowledge discovery and data mining KDD the key task is the discovery of previously unknown knowledge Evaluated with respect to known knowledge an uninformed unsupervised method will easily be outperformed by other supervised methods while in a typical KDD task supervised methods cannot be used due to the unavailability of training data Machine learning also has intimate ties to optimization many learning problems are formulated as minimization of some loss function on a training set of examples Loss functions express the discrepancy between the predictions of the model being trained and the actual problem instances for example in classification one wants to assign a label to instances and models are trained to correctly predict the pre assigned labels of a set of examples The difference between the two fields arises from the goal of generalization while optimization algorithms can minimize the loss on a training set machine learning is concerned with minimizing the loss on unseen samples Machine learning and statistics are closely related fields in terms of methods but distinct in their principal goal statistics draws population inferences from a sample while machine learning finds generalizable predictive patterns According to Michael I Jordan the ideas of machine learning from methodological principles to theoretical tools have had a long pre history in statistics He also suggested the term data science as a placeholder to call the overall field Leo Breiman distinguished two statistical modeling paradigms data model and algorithmic model wherein algorithmic model means more or less the machine learning algorithms like Random forest Some statisticians have adopted methods from machine learning leading to a combined field that they call statistical learning A core objective of a learner is to generalize from its experience Generalization in this context is the ability of a learning machine to perform accurately on new unseen examples tasks after having experienced a learning data set The training examples come from some generally unknown probability distribution considered representative of the space of occurrences and the learner has to build a general model about this space that enables it to produce sufficiently accurate predictions in new cases The computational analysis of machine learning algorithms and their performance is a branch of theoretical computer science known as computational learning theory Because training sets are finite and the future is uncertain learning theory usually does not yield guarantees of the performance of algorithms Instead probabilistic bounds on the performance are quite common The bias variance decomposition is one way to quantify generalization error For the best performance in the context of generalization the complexity of the hypothesis should match the complexity of the function underlying the data If the hypothesis is less complex than the function then the model has under fitted the data If the complexity of the model is increased in response then the training error decreases But if the hypothesis is too complex then the model is subject to overfitting and generalization will be poorer In addition to performance bounds learning theorists study the time complexity and feasibility of learning In computational learning theory a computation is considered feasible if it can be done in polynomial time There are two kinds of time complexity results Positive results show that a certain class of functions can be learned in polynomial time Negative results show that certain classes cannot be learned in polynomial time The types of machine learning algorithms differ in their approach the type of data they input and output and the type of task or problem that they are intended to solve Supervised learning algorithms build a mathematical model of a set of data that contains both the inputs and the desired outputs The data is known as training data and consists of a set of training examples Each training example has one or more inputs and the desired output also known as a supervisory signal In the mathematical model each training example is represented by an array or vector sometimes called a feature vector and the training data is represented by a matrix Through iterative optimization of an objective function supervised learning algorithms learn a function that can be used to predict the output associated with new inputs An optimal function will allow the algorithm to correctly determine the output for inputs that were not a part of the training data An algorithm that improves the accuracy of its outputs or predictions over time is said to have learned to perform that task Supervised learning algorithms include classification and regression Classification algorithms are used when the outputs are restricted to a limited set of values and regression algorithms are used when the outputs may have any numerical value within a range Similarity learning is an area of supervised machine learning closely related to regression and classification but the goal is to learn from examples using a similarity function that measures how similar or related two objects are It has applications in ranking recommendation systems visual identity tracking face verification and speaker verification In the case of semi supervised learning algorithms some of the training examples are missing training labels but they can nevertheless be used to improve the quality of a model In weakly supervised learning the training labels are noisy limited or imprecise however these labels are often cheaper to obtain resulting in larger effective training sets Unsupervised learning algorithms take a set of data that contains only inputs and find structure in the data like grouping or clustering of data points The algorithms therefore learn from test data that has not been labeled classified or categorized Instead of responding to feedback unsupervised learning algorithms identify commonalities in the data and react based on the presence or absence of such commonalities in each new piece of data A central application of unsupervised learning is in the field of density estimation in statistics though unsupervised learning encompasses other domains involving summarizing and explaining data features Cluster analysis is the assignment of a set of observations into subsets called clusters so that observations within the same cluster are similar according to one or more predesignated criteria while observations drawn from different clusters are dissimilar Different clustering techniques make different assumptions on the structure of the data often defined by some similarity metric and evaluated for example by internal compactness or the similarity between members of the same cluster and separation the difference between clusters Other methods are based on estimated density and graph connectivity Semi supervised learning Semi supervised learning falls between unsupervised learning without any labeled training data and supervised learning with completely labeled training data Many machine learning researchers have found that unlabeled data when used in conjunction with a small amount of labeled data can produce a considerable improvement in learning accuracy Reinforcement learning is an area of machine learning concerned with how software agents ought to take actions in an environment so as to maximize some notion of cumulative reward Due to its generality the field is studied in many other disciplines such as game theory control theory operations research information theory simulation based optimization multi agent systems swarm intelligence statistics and genetic algorithms In machine learning the environment is typically represented as a Markov Decision Process MDP Many reinforcement learning algorithms use dynamic programming techniques Reinforcement learning algorithms do not assume knowledge of an exact mathematical model of the MDP and are used when exact models are infeasible Reinforcement learning algorithms are used in autonomous vehicles or in learning to play a game against a human opponent Self learning as machine learning paradigm was introduced in along with a neural network capable of self learning named Crossbar Adaptive Array CAA It is a learning with no external rewards and no external teacher advices The CAA self learning algorithm computes in a crossbar fashion both decisions about actions and emotions feelings about consequence situations The system is driven by the interaction between cognition and emotion The self learning algorithm updates a memory matrix W w a s such that in each iteration executes the following machine learning routine It is a system with only one input situation s and only one output action or behavior a There is neither a separate reinforcement input nor an advice input from the environment The backpropagated value secondary reinforcement is the emotion toward the consequence situation The CAA exists in two environments one is behavioral environment where it behaves and the other is genetic environment wherefrom it initially and only once receives initial emotions about situations to be encountered in the behavioral environment After receiving the genome species vector from the genetic environment the CAA learns a goal seeking behavior in an environment that contains both desirable and undesirable situations Several learning algorithms aim at discovering better representations of the inputs provided during training Classic examples include principal components analysis and cluster analysis Feature learning algorithms also called representation learning algorithms often attempt to preserve the information in their input but also transform it in a way that makes it useful often as a pre processing step before performing classification or predictions This technique allows reconstruction of the inputs coming from the unknown data generating distribution while not being necessarily faithful to configurations that are implausible under that distribution This replaces manual feature engineering and allows a machine to both learn the features and use them to perform a specific task Feature learning can be either supervised or unsupervised In supervised feature learning features are learned using labeled input data Examples include artificial neural networks multilayer perceptrons and supervised dictionary learning In unsupervised feature learning features are learned with unlabeled input data Examples include dictionary learning independent component analysis autoencoders matrix factorization and various forms of clustering Manifold learning algorithms attempt to do so under the constraint that the learned representation is low dimensional Sparse coding algorithms attempt to do so under the constraint that the learned representation is sparse meaning that the mathematical model has many zeros Multilinear subspace learning algorithms aim to learn low dimensional representations directly from tensor representations for multidimensional data without reshaping them into higher dimensional vectors Deep learning algorithms discover multiple levels of representation or a hierarchy of features with higher level more abstract features defined in terms of or generating lower level features It has been argued that an intelligent machine is one that learns a representation that disentangles the underlying factors of variation that explain the observed data Feature learning is motivated by the fact that machine learning tasks such as classification often require input that is mathematically and computationally convenient to process However real world data such as images video and sensory data has not yielded to attempts to algorithmically define specific features An alternative is to discover such features or representations through examination without relying on explicit algorithms Sparse dictionary learning is a feature learning method where a training example is represented as a linear combination of basis functions and is assumed to be a sparse matrix The method is strongly NP hard and difficult to solve approximately A popular heuristic method for sparse dictionary learning is the K SVD algorithm Sparse dictionary learning has been applied in several contexts In classification the problem is to determine the class to which a previously unseen training example belongs For a dictionary where each class has already been built a new training example is associated with the class that is best sparsely represented by the corresponding dictionary Sparse dictionary learning has also been applied in image de noising The key idea is that a clean image patch can be sparsely represented by an image dictionary but the noise cannot In data mining anomaly detection also known as outlier detection is the identification of rare items events or observations which raise suspicions by differing significantly from the majority of the data Typically the anomalous items represent an issue such as bank fraud a structural defect medical problems or errors in a text Anomalies are referred to as outliers novelties noise deviations and exceptions In particular in the context of abuse and network intrusion detection the interesting objects are often not rare objects but unexpected bursts in activity This pattern does not adhere to the common statistical definition of an outlier as a rare object and many outlier detection methods in particular unsupervised algorithms will fail on such data unless it has been aggregated appropriately Instead a cluster analysis algorithm may be able to detect the micro clusters formed by these patterns Three broad categories of anomaly detection techniques exist Unsupervised anomaly detection techniques detect anomalies in an unlabeled test data set under the assumption that the majority of the instances in the data set are normal by looking for instances that seem to fit least to the remainder of the data set Supervised anomaly detection techniques require a data set that has been labeled as normal and abnormal and involves training a classifier the key difference to many other statistical classification problems is the inherently unbalanced nature of outlier detection Semi supervised anomaly detection techniques construct a model representing normal behavior from a given normal training data set and then test the likelihood of a test instance to be generated by the model Association rule learning is a rule based machine learning method for discovering relationships between variables in large databases It is intended to identify strong rules discovered in databases using some measure of interestingness Rule based machine learning is a general term for any machine learning method that identifies learns or evolves rules to store manipulate or apply knowledge The defining characteristic of a rule based machine learning algorithm is the identification and utilization of a set of relational rules that collectively represent the knowledge captured by the system This is in contrast to other machine learning algorithms that commonly identify a singular model that can be universally applied to any instance in order to make a prediction Rule based machine learning approaches include learning classifier systems association rule learning and artificial immune systems Based on the concept of strong rules Rakesh Agrawal Tomasz Imieli ski and Arun Swami introduced association rules for discovering regularities between products in large scale transaction data recorded by point of sale POS systems in supermarkets For example the rule o n i o n s p o t a t o e s b u r g e r displaystyle mathrm onions potatoes Rightarrow mathrm burger found in the sales data of a supermarket would indicate that if a customer buys onions and potatoes together they are likely to also buy hamburger meat Such information can be used as the basis for decisions about marketing activities such as promotional pricing or product placements In addition to market basket analysis association rules are employed today in application areas including Web usage mining intrusion detection continuous production and bioinformatics In contrast with sequence mining association rule learning typically does not consider the order of items either within a transaction or across transactions Learning classifier systems LCS are a family of rule based machine learning algorithms that combine a discovery component typically a genetic algorithm with a learning component performing either supervised learning reinforcement learning or unsupervised learning They seek to identify a set of context dependent rules that collectively store and apply knowledge in a piecewise manner in order to make predictions Inductive logic programming ILP is an approach to rule learning using logic programming as a uniform representation for input examples background knowledge and hypotheses Given an encoding of the known background knowledge and a set of examples represented as a logical database of facts an ILP system will derive a hypothesized logic program that entails all positive and no negative examples Inductive programming is a related field that considers any kind of programming languages for representing hypotheses and not only logic programming such as functional programs Inductive logic programming is particularly useful in bioinformatics and natural language processing Gordon Plotkin and Ehud Shapiro laid the initial theoretical foundation for inductive machine learning in a logical setting Shapiro built their first implementation Model Inference System in a Prolog program that inductively inferred logic programs from positive and negative examples The term inductive here refers to philosophical induction suggesting a theory to explain observed facts rather than mathematical induction proving a property for all members of a well ordered set Performing machine learning involves creating a model which is trained on some training data and then can process additional data to make predictions Various types of models have been used and researched for machine learning systems Artificial neural networks ANNs or connectionist systems are computing systems vaguely inspired by the biological neural networks that constitute animal brains Such systems learn to perform tasks by considering examples generally without being programmed with any task specific rules An ANN is a model based on a collection of connected units or nodes called artificial neurons which loosely model the neurons in a biological brain Each connection like the synapses in a biological brain can transmit information a signal from one artificial neuron to another An artificial neuron that receives a signal can process it and then signal additional artificial neurons connected to it In common ANN implementations the signal at a connection between artificial neurons is a real number and the output of each artificial neuron is computed by some non linear function of the sum of its inputs The connections between artificial neurons are called edges Artificial neurons and edges typically have a weight that adjusts as learning proceeds The weight increases or decreases the strength of the signal at a connection Artificial neurons may have a threshold such that the signal is only sent if the aggregate signal crosses that threshold Typically artificial neurons are aggregated into layers Different layers may perform different kinds of transformations on their inputs Signals travel from the first layer the input layer to the last layer the output layer possibly after traversing the layers multiple times The original goal of the ANN approach was to solve problems in the same way that a human brain would However over time attention moved to performing specific tasks leading to deviations from biology Artificial neural networks have been used on a variety of tasks including computer vision speech recognition machine translation social network filtering playing board and video games and medical diagnosis Deep learning consists of multiple hidden layers in an artificial neural network This approach tries to model the way the human brain processes light and sound into vision and hearing Some successful applications of deep learning are computer vision and speech recognition Decision tree learning uses a decision tree as a predictive model to go from observations about an item represented in the branches to conclusions about the item s target value represented in the leaves It is one of the predictive modeling approaches used in statistics data mining and machine learning Tree models where the target variable can take a discrete set of values are called classification trees in these tree structures leaves represent class labels and branches represent conjunctions of features that lead to those class labels Decision trees where the target variable can take continuous values typically real numbers are called regression trees In decision analysis a decision tree can be used to visually and explicitly represent decisions and decision making In data mining a decision tree describes data but the resulting classification tree can be an input for decision making Support vector machines SVMs also known as support vector networks are a set of related supervised learning methods used for classification and regression Given a set of training examples each marked as belonging to one of two categories an SVM training algorithm builds a model that predicts whether a new example falls into one category or the other An SVM training algorithm is a non probabilistic binary linear classifier although methods such as Platt scaling exist to use SVM in a probabilistic classification setting In addition to performing linear classification SVMs can efficiently perform a non linear classification using what is called the kernel trick implicitly mapping their inputs into high dimensional feature spaces Regression analysis encompasses a large variety of statistical methods to estimate the relationship between input variables and their associated features Its most common form is linear regression where a single line is drawn to best fit the given data according to a mathematical criterion such as ordinary least squares The latter is oftentimes extended by regularization mathematics methods to mitigate overfitting and high bias as can be seen in ridge regression When dealing with non linear problems go to models include polynomial regression e g used for trendline fitting in Microsoft Excel Logistic regression often used in statistical classification or even kernel regression which introduces non linearity by taking advantage of the kernel trick to implicitly map input variables to higher dimensional space A Bayesian network belief network or directed acyclic graphical model is a probabilistic graphical model that represents a set of random variables and their conditional independence with a directed acyclic graph DAG For example a Bayesian network could represent the probabilistic relationships between diseases and symptoms Given symptoms the network can be used to compute the probabilities of the presence of various diseases Efficient algorithms exist that perform inference and learning Bayesian networks that model sequences of variables like speech signals or protein sequences are called dynamic Bayesian networks Generalizations of Bayesian networks that can represent and solve decision problems under uncertainty are called influence diagrams A genetic algorithm GA is a search algorithm and heuristic technique that mimics the process of natural selection using methods such as mutation and crossover to generate new genotypes in the hope of finding good solutions to a given problem In machine learning genetic algorithms were used in the s and s Conversely machine learning techniques have been used to improve the performance of genetic and evolutionary algorithms Usually machine learning models require a lot of data in order for them to perform well Usually when training a machine learning model one needs to collect a large representative sample of data from a training set Data from the training set can be as varied as a corpus of text a collection of images and data collected from individual users of a service Overfitting is something to watch out for when training a machine learning model Federated learning is a new approach to training machine learning models that decentralizes the training process allowing for users privacy to be maintained by not needing to send their data to a centralized server This also increases efficiency by decentralizing the training process to many devices For example Gboard uses federated machine learning to train search query prediction models on users mobile phones without having to send individual searches back to Google There are many applications for machine learning including In the media services provider Netflix held the first Netflix Prize competition to find a program to better predict user preferences and improve the accuracy on its existing Cinematch movie recommendation algorithm by at least A joint team made up of researchers from AT T Labs Research in collaboration with the teams Big Chaos and Pragmatic Theory built an ensemble model to win the Grand Prize in for million Shortly after the prize was awarded Netflix realized that viewers ratings were not the best indicators of their viewing patterns everything is a recommendation and they changed their recommendation engine accordingly In The Wall Street Journal wrote about the firm Rebellion Research and their use of machine learning to predict the financial crisis In co founder of Sun Microsystems Vinod Khosla predicted that of medical doctors jobs would be lost in the next two decades to automated machine learning medical diagnostic software In it was reported that a machine learning algorithm had been applied in the field of art history to study fine art paintings and that it may have revealed previously unrecognized influences among artists In Springer Nature published the first research book created using machine learning Although machine learning has been transformative in some fields machine learning programs often fail to deliver expected results Reasons for this are numerous lack of suitable data lack of access to the data data bias privacy problems badly chosen tasks and algorithms wrong tools and people lack of resources and evaluation problems In a self driving car from Uber failed to detect a pedestrian who was killed after a collision Attempts to use machine learning in healthcare with the IBM Watson system failed to deliver even after years of time and billions of investment Machine learning approaches in particular can suffer from different data biases A machine learning system trained on current customers only may not be able to predict the needs of new customer groups that are not represented in the training data When trained on man made data machine learning is likely to pick up the same constitutional and unconscious biases already present in society Language models learned from data have been shown to contain human like biases Machine learning systems used for criminal risk assessment have been found to be biased against black people In Google photos would often tag black people as gorillas and in this still was not well resolved but Google reportedly was still using the workaround to remove all gorillas from the training data and thus was not able to recognize real gorillas at all Similar issues with recognizing non white people have been found in many other systems In Microsoft tested a chatbot that learned from Twitter and it quickly picked up racist and sexist language Because of such challenges the effective use of machine learning may take longer to be adopted in other domains Concern for fairness in machine learning that is reducing bias in machine learning and propelling its use for human good is increasingly expressed by artificial intelligence scientists including Fei Fei Li who reminds engineers that There s nothing artificial about AI It s inspired by people it s created by people and most importantly it impacts people It is a powerful tool we are only just beginning to understand and that is a profound responsibility Classification machine learning models can be validated by accuracy estimation techniques like the Holdout method which splits the data in a training and test set conventionally training set and test set designation and evaluates the performance of the training model on the test set In comparison the K fold cross validation method randomly partitions the data into K subsets and then K experiments are performed each respectively considering subset for evaluation and the remaining K subsets for training the model In addition to the holdout and cross validation methods bootstrap which samples n instances with replacement from the dataset can be used to assess model accuracy In addition to overall accuracy investigators frequently report sensitivity and specificity meaning True Positive Rate TPR and True Negative Rate TNR respectively Similarly investigators sometimes report the False Positive Rate FPR as well as the False Negative Rate FNR However these rates are ratios that fail to reveal their numerators and denominators The Total Operating Characteristic TOC is an effective method to express a model s diagnostic ability TOC shows the numerators and denominators of the previously mentioned rates thus TOC provides more information than the commonly used Receiver Operating Characteristic ROC and ROC s associated Area Under the Curve AUC Machine learning poses a host of ethical questions Systems which are trained on datasets collected with biases may exhibit these biases upon use algorithmic bias thus digitizing cultural prejudices For example using job hiring data from a firm with racist hiring policies may lead to a machine learning system duplicating the bias by scoring job applicants against similarity to previous successful applicants Responsible collection of data and documentation of algorithmic rules used by a system thus is a critical part of machine learning Because human languages contain biases machines trained on language corpora will necessarily also learn these biases Other forms of ethical challenges not related to personal biases are more seen in health care There are concerns among health care professionals that these systems might not be designed in the public s interest but as income generating machines This is especially true in the United States where there is a long standing ethical dilemma of improving health care but also increasing profits For example the algorithms could be designed to provide patients with unnecessary tests or medication in which the algorithm s proprietary owners hold stakes There is huge potential for machine learning in health care to provide professionals a great tool to diagnose medicate and even plan recovery paths for patients but this will not happen until the personal biases mentioned previously and these greed biases are addressed Software suites containing a variety of machine learning algorithms include the following \n"
          ],
          "name": "stdout"
        }
      ]
    },
    {
      "cell_type": "code",
      "metadata": {
        "id": "t9XIyfYuQ-gn",
        "colab_type": "code",
        "colab": {}
      },
      "source": [
        ""
      ],
      "execution_count": 0,
      "outputs": []
    },
    {
      "cell_type": "code",
      "metadata": {
        "id": "68Y1WPb4RBT_",
        "colab_type": "code",
        "outputId": "91edffcd-8a0d-49f2-e85e-138c2cdbf633",
        "colab": {
          "base_uri": "https://localhost:8080/",
          "height": 34
        }
      },
      "source": [
        ""
      ],
      "execution_count": 0,
      "outputs": [
        {
          "output_type": "execute_result",
          "data": {
            "text/plain": [
              "str"
            ]
          },
          "metadata": {
            "tags": []
          },
          "execution_count": 6
        }
      ]
    },
    {
      "cell_type": "code",
      "metadata": {
        "id": "bHInv2opRCsD",
        "colab_type": "code",
        "colab": {}
      },
      "source": [
        ""
      ],
      "execution_count": 0,
      "outputs": []
    },
    {
      "cell_type": "code",
      "metadata": {
        "id": "_Q70LTihSOg7",
        "colab_type": "code",
        "colab": {}
      },
      "source": [
        ""
      ],
      "execution_count": 0,
      "outputs": []
    },
    {
      "cell_type": "code",
      "metadata": {
        "id": "LeCe1X6RYnR_",
        "colab_type": "code",
        "outputId": "9f393409-b77d-45b6-a0ab-0a669a9c1153",
        "colab": {
          "base_uri": "https://localhost:8080/",
          "height": 50
        }
      },
      "source": [
        "!pip install nltk\n"
      ],
      "execution_count": 0,
      "outputs": [
        {
          "output_type": "stream",
          "text": [
            "Requirement already satisfied: nltk in /usr/local/lib/python3.6/dist-packages (3.2.5)\n",
            "Requirement already satisfied: six in /usr/local/lib/python3.6/dist-packages (from nltk) (1.12.0)\n"
          ],
          "name": "stdout"
        }
      ]
    },
    {
      "cell_type": "code",
      "metadata": {
        "id": "s6vIp4YGoCnw",
        "colab_type": "code",
        "outputId": "6df9fca9-8097-485d-c5e1-f953cdc6abdb",
        "colab": {
          "base_uri": "https://localhost:8080/",
          "height": 1000
        }
      },
      "source": [
        "import nltk\n",
        "nltk.download('all')"
      ],
      "execution_count": 0,
      "outputs": [
        {
          "output_type": "stream",
          "text": [
            "[nltk_data] Downloading collection 'all'\n",
            "[nltk_data]    | \n",
            "[nltk_data]    | Downloading package abc to /root/nltk_data...\n",
            "[nltk_data]    |   Unzipping corpora/abc.zip.\n",
            "[nltk_data]    | Downloading package alpino to /root/nltk_data...\n",
            "[nltk_data]    |   Unzipping corpora/alpino.zip.\n",
            "[nltk_data]    | Downloading package biocreative_ppi to\n",
            "[nltk_data]    |     /root/nltk_data...\n",
            "[nltk_data]    |   Unzipping corpora/biocreative_ppi.zip.\n",
            "[nltk_data]    | Downloading package brown to /root/nltk_data...\n",
            "[nltk_data]    |   Unzipping corpora/brown.zip.\n",
            "[nltk_data]    | Downloading package brown_tei to /root/nltk_data...\n",
            "[nltk_data]    |   Unzipping corpora/brown_tei.zip.\n",
            "[nltk_data]    | Downloading package cess_cat to /root/nltk_data...\n",
            "[nltk_data]    |   Unzipping corpora/cess_cat.zip.\n",
            "[nltk_data]    | Downloading package cess_esp to /root/nltk_data...\n",
            "[nltk_data]    |   Unzipping corpora/cess_esp.zip.\n",
            "[nltk_data]    | Downloading package chat80 to /root/nltk_data...\n",
            "[nltk_data]    |   Unzipping corpora/chat80.zip.\n",
            "[nltk_data]    | Downloading package city_database to\n",
            "[nltk_data]    |     /root/nltk_data...\n",
            "[nltk_data]    |   Unzipping corpora/city_database.zip.\n",
            "[nltk_data]    | Downloading package cmudict to /root/nltk_data...\n",
            "[nltk_data]    |   Unzipping corpora/cmudict.zip.\n",
            "[nltk_data]    | Downloading package comparative_sentences to\n",
            "[nltk_data]    |     /root/nltk_data...\n",
            "[nltk_data]    |   Unzipping corpora/comparative_sentences.zip.\n",
            "[nltk_data]    | Downloading package comtrans to /root/nltk_data...\n",
            "[nltk_data]    | Downloading package conll2000 to /root/nltk_data...\n",
            "[nltk_data]    |   Unzipping corpora/conll2000.zip.\n",
            "[nltk_data]    | Downloading package conll2002 to /root/nltk_data...\n",
            "[nltk_data]    |   Unzipping corpora/conll2002.zip.\n",
            "[nltk_data]    | Downloading package conll2007 to /root/nltk_data...\n",
            "[nltk_data]    | Downloading package crubadan to /root/nltk_data...\n",
            "[nltk_data]    |   Unzipping corpora/crubadan.zip.\n",
            "[nltk_data]    | Downloading package dependency_treebank to\n",
            "[nltk_data]    |     /root/nltk_data...\n",
            "[nltk_data]    |   Unzipping corpora/dependency_treebank.zip.\n",
            "[nltk_data]    | Downloading package dolch to /root/nltk_data...\n",
            "[nltk_data]    |   Unzipping corpora/dolch.zip.\n",
            "[nltk_data]    | Downloading package europarl_raw to\n",
            "[nltk_data]    |     /root/nltk_data...\n",
            "[nltk_data]    |   Unzipping corpora/europarl_raw.zip.\n",
            "[nltk_data]    | Downloading package floresta to /root/nltk_data...\n",
            "[nltk_data]    |   Unzipping corpora/floresta.zip.\n",
            "[nltk_data]    | Downloading package framenet_v15 to\n",
            "[nltk_data]    |     /root/nltk_data...\n",
            "[nltk_data]    |   Unzipping corpora/framenet_v15.zip.\n",
            "[nltk_data]    | Downloading package framenet_v17 to\n",
            "[nltk_data]    |     /root/nltk_data...\n",
            "[nltk_data]    |   Unzipping corpora/framenet_v17.zip.\n",
            "[nltk_data]    | Downloading package gazetteers to /root/nltk_data...\n",
            "[nltk_data]    |   Unzipping corpora/gazetteers.zip.\n",
            "[nltk_data]    | Downloading package genesis to /root/nltk_data...\n",
            "[nltk_data]    |   Unzipping corpora/genesis.zip.\n",
            "[nltk_data]    | Downloading package gutenberg to /root/nltk_data...\n",
            "[nltk_data]    |   Unzipping corpora/gutenberg.zip.\n",
            "[nltk_data]    | Downloading package ieer to /root/nltk_data...\n",
            "[nltk_data]    |   Unzipping corpora/ieer.zip.\n",
            "[nltk_data]    | Downloading package inaugural to /root/nltk_data...\n",
            "[nltk_data]    |   Unzipping corpora/inaugural.zip.\n",
            "[nltk_data]    | Downloading package indian to /root/nltk_data...\n",
            "[nltk_data]    |   Unzipping corpora/indian.zip.\n",
            "[nltk_data]    | Downloading package jeita to /root/nltk_data...\n",
            "[nltk_data]    | Downloading package kimmo to /root/nltk_data...\n",
            "[nltk_data]    |   Unzipping corpora/kimmo.zip.\n",
            "[nltk_data]    | Downloading package knbc to /root/nltk_data...\n",
            "[nltk_data]    | Downloading package lin_thesaurus to\n",
            "[nltk_data]    |     /root/nltk_data...\n",
            "[nltk_data]    |   Unzipping corpora/lin_thesaurus.zip.\n",
            "[nltk_data]    | Downloading package mac_morpho to /root/nltk_data...\n",
            "[nltk_data]    |   Unzipping corpora/mac_morpho.zip.\n",
            "[nltk_data]    | Downloading package machado to /root/nltk_data...\n",
            "[nltk_data]    | Downloading package masc_tagged to /root/nltk_data...\n",
            "[nltk_data]    | Downloading package moses_sample to\n",
            "[nltk_data]    |     /root/nltk_data...\n",
            "[nltk_data]    |   Unzipping models/moses_sample.zip.\n",
            "[nltk_data]    | Downloading package movie_reviews to\n",
            "[nltk_data]    |     /root/nltk_data...\n",
            "[nltk_data]    |   Unzipping corpora/movie_reviews.zip.\n",
            "[nltk_data]    | Downloading package names to /root/nltk_data...\n",
            "[nltk_data]    |   Unzipping corpora/names.zip.\n",
            "[nltk_data]    | Downloading package nombank.1.0 to /root/nltk_data...\n",
            "[nltk_data]    | Downloading package nps_chat to /root/nltk_data...\n",
            "[nltk_data]    |   Unzipping corpora/nps_chat.zip.\n",
            "[nltk_data]    | Downloading package omw to /root/nltk_data...\n",
            "[nltk_data]    |   Unzipping corpora/omw.zip.\n",
            "[nltk_data]    | Downloading package opinion_lexicon to\n",
            "[nltk_data]    |     /root/nltk_data...\n",
            "[nltk_data]    |   Unzipping corpora/opinion_lexicon.zip.\n",
            "[nltk_data]    | Downloading package paradigms to /root/nltk_data...\n",
            "[nltk_data]    |   Unzipping corpora/paradigms.zip.\n",
            "[nltk_data]    | Downloading package pil to /root/nltk_data...\n",
            "[nltk_data]    |   Unzipping corpora/pil.zip.\n",
            "[nltk_data]    | Downloading package pl196x to /root/nltk_data...\n",
            "[nltk_data]    |   Unzipping corpora/pl196x.zip.\n",
            "[nltk_data]    | Downloading package ppattach to /root/nltk_data...\n",
            "[nltk_data]    |   Unzipping corpora/ppattach.zip.\n",
            "[nltk_data]    | Downloading package problem_reports to\n",
            "[nltk_data]    |     /root/nltk_data...\n",
            "[nltk_data]    |   Unzipping corpora/problem_reports.zip.\n",
            "[nltk_data]    | Downloading package propbank to /root/nltk_data...\n",
            "[nltk_data]    | Downloading package ptb to /root/nltk_data...\n",
            "[nltk_data]    |   Unzipping corpora/ptb.zip.\n",
            "[nltk_data]    | Downloading package product_reviews_1 to\n",
            "[nltk_data]    |     /root/nltk_data...\n",
            "[nltk_data]    |   Unzipping corpora/product_reviews_1.zip.\n",
            "[nltk_data]    | Downloading package product_reviews_2 to\n",
            "[nltk_data]    |     /root/nltk_data...\n",
            "[nltk_data]    |   Unzipping corpora/product_reviews_2.zip.\n",
            "[nltk_data]    | Downloading package pros_cons to /root/nltk_data...\n",
            "[nltk_data]    |   Unzipping corpora/pros_cons.zip.\n",
            "[nltk_data]    | Downloading package qc to /root/nltk_data...\n",
            "[nltk_data]    |   Unzipping corpora/qc.zip.\n",
            "[nltk_data]    | Downloading package reuters to /root/nltk_data...\n",
            "[nltk_data]    | Downloading package rte to /root/nltk_data...\n",
            "[nltk_data]    |   Unzipping corpora/rte.zip.\n",
            "[nltk_data]    | Downloading package semcor to /root/nltk_data...\n",
            "[nltk_data]    | Downloading package senseval to /root/nltk_data...\n",
            "[nltk_data]    |   Unzipping corpora/senseval.zip.\n",
            "[nltk_data]    | Downloading package sentiwordnet to\n",
            "[nltk_data]    |     /root/nltk_data...\n",
            "[nltk_data]    |   Unzipping corpora/sentiwordnet.zip.\n",
            "[nltk_data]    | Downloading package sentence_polarity to\n",
            "[nltk_data]    |     /root/nltk_data...\n",
            "[nltk_data]    |   Unzipping corpora/sentence_polarity.zip.\n",
            "[nltk_data]    | Downloading package shakespeare to /root/nltk_data...\n",
            "[nltk_data]    |   Unzipping corpora/shakespeare.zip.\n",
            "[nltk_data]    | Downloading package sinica_treebank to\n",
            "[nltk_data]    |     /root/nltk_data...\n",
            "[nltk_data]    |   Unzipping corpora/sinica_treebank.zip.\n",
            "[nltk_data]    | Downloading package smultron to /root/nltk_data...\n",
            "[nltk_data]    |   Unzipping corpora/smultron.zip.\n",
            "[nltk_data]    | Downloading package state_union to /root/nltk_data...\n",
            "[nltk_data]    |   Unzipping corpora/state_union.zip.\n",
            "[nltk_data]    | Downloading package stopwords to /root/nltk_data...\n",
            "[nltk_data]    |   Unzipping corpora/stopwords.zip.\n",
            "[nltk_data]    | Downloading package subjectivity to\n",
            "[nltk_data]    |     /root/nltk_data...\n",
            "[nltk_data]    |   Unzipping corpora/subjectivity.zip.\n",
            "[nltk_data]    | Downloading package swadesh to /root/nltk_data...\n",
            "[nltk_data]    |   Unzipping corpora/swadesh.zip.\n",
            "[nltk_data]    | Downloading package switchboard to /root/nltk_data...\n",
            "[nltk_data]    |   Unzipping corpora/switchboard.zip.\n",
            "[nltk_data]    | Downloading package timit to /root/nltk_data...\n",
            "[nltk_data]    |   Unzipping corpora/timit.zip.\n",
            "[nltk_data]    | Downloading package toolbox to /root/nltk_data...\n",
            "[nltk_data]    |   Unzipping corpora/toolbox.zip.\n",
            "[nltk_data]    | Downloading package treebank to /root/nltk_data...\n",
            "[nltk_data]    |   Unzipping corpora/treebank.zip.\n",
            "[nltk_data]    | Downloading package twitter_samples to\n",
            "[nltk_data]    |     /root/nltk_data...\n",
            "[nltk_data]    |   Unzipping corpora/twitter_samples.zip.\n",
            "[nltk_data]    | Downloading package udhr to /root/nltk_data...\n",
            "[nltk_data]    |   Unzipping corpora/udhr.zip.\n",
            "[nltk_data]    | Downloading package udhr2 to /root/nltk_data...\n",
            "[nltk_data]    |   Unzipping corpora/udhr2.zip.\n",
            "[nltk_data]    | Downloading package unicode_samples to\n",
            "[nltk_data]    |     /root/nltk_data...\n",
            "[nltk_data]    |   Unzipping corpora/unicode_samples.zip.\n",
            "[nltk_data]    | Downloading package universal_treebanks_v20 to\n",
            "[nltk_data]    |     /root/nltk_data...\n",
            "[nltk_data]    | Downloading package verbnet to /root/nltk_data...\n",
            "[nltk_data]    |   Unzipping corpora/verbnet.zip.\n",
            "[nltk_data]    | Downloading package verbnet3 to /root/nltk_data...\n",
            "[nltk_data]    |   Unzipping corpora/verbnet3.zip.\n",
            "[nltk_data]    | Downloading package webtext to /root/nltk_data...\n",
            "[nltk_data]    |   Unzipping corpora/webtext.zip.\n",
            "[nltk_data]    | Downloading package wordnet to /root/nltk_data...\n",
            "[nltk_data]    |   Unzipping corpora/wordnet.zip.\n",
            "[nltk_data]    | Downloading package wordnet_ic to /root/nltk_data...\n",
            "[nltk_data]    |   Unzipping corpora/wordnet_ic.zip.\n",
            "[nltk_data]    | Downloading package words to /root/nltk_data...\n",
            "[nltk_data]    |   Unzipping corpora/words.zip.\n",
            "[nltk_data]    | Downloading package ycoe to /root/nltk_data...\n",
            "[nltk_data]    |   Unzipping corpora/ycoe.zip.\n",
            "[nltk_data]    | Downloading package rslp to /root/nltk_data...\n",
            "[nltk_data]    |   Unzipping stemmers/rslp.zip.\n",
            "[nltk_data]    | Downloading package maxent_treebank_pos_tagger to\n",
            "[nltk_data]    |     /root/nltk_data...\n",
            "[nltk_data]    |   Unzipping taggers/maxent_treebank_pos_tagger.zip.\n",
            "[nltk_data]    | Downloading package universal_tagset to\n",
            "[nltk_data]    |     /root/nltk_data...\n",
            "[nltk_data]    |   Unzipping taggers/universal_tagset.zip.\n",
            "[nltk_data]    | Downloading package maxent_ne_chunker to\n",
            "[nltk_data]    |     /root/nltk_data...\n",
            "[nltk_data]    |   Unzipping chunkers/maxent_ne_chunker.zip.\n",
            "[nltk_data]    | Downloading package punkt to /root/nltk_data...\n",
            "[nltk_data]    |   Unzipping tokenizers/punkt.zip.\n",
            "[nltk_data]    | Downloading package book_grammars to\n",
            "[nltk_data]    |     /root/nltk_data...\n",
            "[nltk_data]    |   Unzipping grammars/book_grammars.zip.\n",
            "[nltk_data]    | Downloading package sample_grammars to\n",
            "[nltk_data]    |     /root/nltk_data...\n",
            "[nltk_data]    |   Unzipping grammars/sample_grammars.zip.\n",
            "[nltk_data]    | Downloading package spanish_grammars to\n",
            "[nltk_data]    |     /root/nltk_data...\n",
            "[nltk_data]    |   Unzipping grammars/spanish_grammars.zip.\n",
            "[nltk_data]    | Downloading package basque_grammars to\n",
            "[nltk_data]    |     /root/nltk_data...\n",
            "[nltk_data]    |   Unzipping grammars/basque_grammars.zip.\n",
            "[nltk_data]    | Downloading package large_grammars to\n",
            "[nltk_data]    |     /root/nltk_data...\n",
            "[nltk_data]    |   Unzipping grammars/large_grammars.zip.\n",
            "[nltk_data]    | Downloading package tagsets to /root/nltk_data...\n",
            "[nltk_data]    |   Unzipping help/tagsets.zip.\n",
            "[nltk_data]    | Downloading package snowball_data to\n",
            "[nltk_data]    |     /root/nltk_data...\n",
            "[nltk_data]    | Downloading package bllip_wsj_no_aux to\n",
            "[nltk_data]    |     /root/nltk_data...\n",
            "[nltk_data]    |   Unzipping models/bllip_wsj_no_aux.zip.\n",
            "[nltk_data]    | Downloading package word2vec_sample to\n",
            "[nltk_data]    |     /root/nltk_data...\n",
            "[nltk_data]    |   Unzipping models/word2vec_sample.zip.\n",
            "[nltk_data]    | Downloading package panlex_swadesh to\n",
            "[nltk_data]    |     /root/nltk_data...\n",
            "[nltk_data]    | Downloading package mte_teip5 to /root/nltk_data...\n",
            "[nltk_data]    |   Unzipping corpora/mte_teip5.zip.\n",
            "[nltk_data]    | Downloading package averaged_perceptron_tagger to\n",
            "[nltk_data]    |     /root/nltk_data...\n",
            "[nltk_data]    |   Unzipping taggers/averaged_perceptron_tagger.zip.\n",
            "[nltk_data]    | Downloading package averaged_perceptron_tagger_ru to\n",
            "[nltk_data]    |     /root/nltk_data...\n",
            "[nltk_data]    |   Unzipping\n",
            "[nltk_data]    |       taggers/averaged_perceptron_tagger_ru.zip.\n",
            "[nltk_data]    | Downloading package perluniprops to\n",
            "[nltk_data]    |     /root/nltk_data...\n",
            "[nltk_data]    |   Unzipping misc/perluniprops.zip.\n",
            "[nltk_data]    | Downloading package nonbreaking_prefixes to\n",
            "[nltk_data]    |     /root/nltk_data...\n",
            "[nltk_data]    |   Unzipping corpora/nonbreaking_prefixes.zip.\n",
            "[nltk_data]    | Downloading package vader_lexicon to\n",
            "[nltk_data]    |     /root/nltk_data...\n",
            "[nltk_data]    | Downloading package porter_test to /root/nltk_data...\n",
            "[nltk_data]    |   Unzipping stemmers/porter_test.zip.\n",
            "[nltk_data]    | Downloading package wmt15_eval to /root/nltk_data...\n",
            "[nltk_data]    |   Unzipping models/wmt15_eval.zip.\n",
            "[nltk_data]    | Downloading package mwa_ppdb to /root/nltk_data...\n",
            "[nltk_data]    |   Unzipping misc/mwa_ppdb.zip.\n",
            "[nltk_data]    | \n",
            "[nltk_data]  Done downloading collection all\n"
          ],
          "name": "stdout"
        },
        {
          "output_type": "execute_result",
          "data": {
            "text/plain": [
              "True"
            ]
          },
          "metadata": {
            "tags": []
          },
          "execution_count": 17
        }
      ]
    },
    {
      "cell_type": "code",
      "metadata": {
        "id": "3v-JoxdmoHLN",
        "colab_type": "code",
        "outputId": "e039c092-8959-4901-cfee-5b71efef620a",
        "colab": {
          "base_uri": "https://localhost:8080/",
          "height": 310
        }
      },
      "source": [
        "import nltk\n",
        "new_data= clean_data.split()\n",
        "freq_data= nltk.FreqDist(new_data)\n",
        "freq_data.plot(5)\n"
      ],
      "execution_count": 0,
      "outputs": [
        {
          "output_type": "display_data",
          "data": {
            "image/png": "[encoded data removed]",
            "text/plain": [
              "<Figure size 432x288 with 1 Axes>"
            ]
          },
          "metadata": {
            "tags": []
          }
        }
      ]
    },
    {
      "cell_type": "code",
      "metadata": {
        "id": "yxvk-vwyrUpL",
        "colab_type": "code",
        "colab": {}
      },
      "source": [
        ""
      ],
      "execution_count": 0,
      "outputs": []
    }
  ]
}